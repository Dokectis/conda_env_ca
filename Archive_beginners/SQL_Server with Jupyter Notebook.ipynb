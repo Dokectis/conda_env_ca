{
 "cells": [
  {
   "cell_type": "code",
   "execution_count": 3,
   "id": "0c78fae6-8a50-492b-baad-a861f1537dc1",
   "metadata": {},
   "outputs": [],
   "source": [
    "import pyodbc"
   ]
  },
  {
   "cell_type": "code",
   "execution_count": 15,
   "id": "f36e5769-2fed-47c9-9cf2-639dccda412d",
   "metadata": {},
   "outputs": [],
   "source": [
    "import pandas as pd"
   ]
  },
  {
   "cell_type": "code",
   "execution_count": 13,
   "id": "122d91e3-c550-4ecd-be4b-23afdbf351d5",
   "metadata": {},
   "outputs": [],
   "source": [
    "cnxn_str = (\"Driver={ODBC Driver 17 for SQL Server};\"\n",
    "           \"Server=DESKTOP-SQLSERVERHOST;\"\n",
    "           \"Database=sandbox;\"\n",
    "            \"Trusted_Connection=yes;\")"
   ]
  },
  {
   "cell_type": "code",
   "execution_count": 14,
   "id": "474dbb00-a00b-4e29-9ddf-125d56bc2fea",
   "metadata": {},
   "outputs": [
    {
     "name": "stdout",
     "output_type": "stream",
     "text": [
      "True\n"
     ]
    }
   ],
   "source": [
    "if cnxn_str:\n",
    "    print('True')"
   ]
  },
  {
   "cell_type": "code",
   "execution_count": 18,
   "id": "6f8054ab-21fc-4b64-bf97-486ef6a02e60",
   "metadata": {},
   "outputs": [],
   "source": [
    "cnxn = pyodbc.connect(cnxn_str)"
   ]
  },
  {
   "cell_type": "code",
   "execution_count": 19,
   "id": "9432e730-b7d2-4b7d-9928-424676f3031a",
   "metadata": {},
   "outputs": [
    {
     "name": "stdout",
     "output_type": "stream",
     "text": [
      "    customer_id first_name  last_name         full_name    phone_number  \\\n",
      "0             1      Cally   Reynolds    Cally Reynolds  (901) 166-8355   \n",
      "1             2     Sydney   Bartlett   Sydney Bartlett  (982) 231-7357   \n",
      "2             3     Hunter     Newton     Hunter Newton  (831) 996-1240   \n",
      "3             4     Brooke    Perkins    Brooke Perkins  (340) 732-9367   \n",
      "4             5      Nolan     Slater      Nolan Slater  (540) 487-5928   \n",
      "..          ...        ...        ...               ...             ...   \n",
      "95           96     Serena     Malone     Serena Malone  (137) 440-1643   \n",
      "96           97      Eagan       Bray        Eagan Bray  (529) 738-3373   \n",
      "97           98     Nicole  Mcconnell  Nicole Mcconnell  (892) 616-0264   \n",
      "98           99      Kamal     Newton      Kamal Newton  (704) 685-9968   \n",
      "99          100    Quentin   Marshall  Quentin Marshall  (203) 755-9348   \n",
      "\n",
      "          street_address  city_state_zip_id  \n",
      "0      556 Lakewood Park                  8  \n",
      "1    4829 Badeau Parkway                 14  \n",
      "2   2 Rockefeller Avenue                 85  \n",
      "3      87 Brentwood Park                 23  \n",
      "4         99 Sage Street                 59  \n",
      "..                   ...                ...  \n",
      "95   30 Onsgard Crossing                 41  \n",
      "96  55617 Straubel Drive                 54  \n",
      "97       8 Delaware Hill                 31  \n",
      "98  718 Lakewood Parkway                  3  \n",
      "99     100 Bunting Drive                 89  \n",
      "\n",
      "[100 rows x 7 columns]\n"
     ]
    },
    {
     "name": "stderr",
     "output_type": "stream",
     "text": [
      "C:\\Users\\Kentr\\AppData\\Local\\Temp\\ipykernel_13724\\2341648683.py:1: UserWarning: pandas only supports SQLAlchemy connectable (engine/connection) or database string URI or sqlite3 DBAPI2 connection. Other DBAPI2 objects are not tested. Please consider using SQLAlchemy.\n",
      "  df = pd.read_sql(\"SELECT * FROM customer\", cnxn)\n"
     ]
    }
   ],
   "source": [
    "df = pd.read_sql(\"SELECT * FROM customer\", cnxn)\n",
    "\n",
    "print(df)"
   ]
  }
 ],
 "metadata": {
  "kernelspec": {
   "display_name": "Python 3 (ipykernel)",
   "language": "python",
   "name": "python3"
  },
  "language_info": {
   "codemirror_mode": {
    "name": "ipython",
    "version": 3
   },
   "file_extension": ".py",
   "mimetype": "text/x-python",
   "name": "python",
   "nbconvert_exporter": "python",
   "pygments_lexer": "ipython3",
   "version": "3.12.4"
  }
 },
 "nbformat": 4,
 "nbformat_minor": 5
}

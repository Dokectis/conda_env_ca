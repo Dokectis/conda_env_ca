{
 "cells": [
  {
   "cell_type": "code",
   "execution_count": 8,
   "id": "dfc01c45-9169-4ec6-a9ac-08a12b9c98ba",
   "metadata": {},
   "outputs": [],
   "source": [
    "# Import necessary packages\n",
    "from sqlalchemy import create_engine, inspect\n",
    "import pandas as pd\n",
    "import re\n"
   ]
  },
  {
   "cell_type": "code",
   "execution_count": 2,
   "id": "8f7dc48f-2b0b-4fdf-a2f9-9bcd0fece5c1",
   "metadata": {},
   "outputs": [],
   "source": [
    "# Define your connection parameters\n",
    "server = 'serverHere'\n",
    "database = 'sandbox'\n",
    "\n",
    "# Create an engine\n",
    "engine = create_engine(f'mssql+pyodbc://{server}/{database}?driver=ODBC+Driver+18+for+SQL+Server&TrustServerCertificate=yes')"
   ]
  },
  {
   "cell_type": "code",
   "execution_count": 3,
   "id": "89ae1207-f7f1-47ab-87ba-7a42b7c92cba",
   "metadata": {},
   "outputs": [],
   "source": [
    "\n",
    "# Create an inspector\n",
    "inspector = inspect(engine)\n",
    "\n",
    "# Get a list of all table names\n",
    "tables = inspector.get_table_names()\n"
   ]
  },
  {
   "cell_type": "code",
   "execution_count": 4,
   "id": "0bad6539-76dc-4abc-adb7-779242abe3c4",
   "metadata": {},
   "outputs": [
    {
     "name": "stdout",
     "output_type": "stream",
     "text": [
      "Tables in the database:\n",
      "additional_product\n",
      "additional_service\n",
      "city_state_zip\n",
      "customer\n",
      "customer_to_clean\n",
      "oil_flavor\n",
      "product\n",
      "product_order\n",
      "product_type\n"
     ]
    }
   ],
   "source": [
    "# Display the list of tables\n",
    "print(\"Tables in the database:\")\n",
    "for table in tables:\n",
    "    print(table)\n",
    "\n",
    "# Dictionary to hold DataFrames and list to hold DataFrame names\n",
    "dataframes = {}\n",
    "dataframe_names = []"
   ]
  },
  {
   "cell_type": "code",
   "execution_count": 5,
   "id": "91997a2e-61a9-46a7-8289-6b44a9fdfd6d",
   "metadata": {},
   "outputs": [
    {
     "name": "stdout",
     "output_type": "stream",
     "text": [
      "Original DataFrame:\n",
      "   customer_id first_name last_name        full_name    phone_number  \\\n",
      "0            1      Cally  Reynolds   Cally Reynolds  (901) 166-8355   \n",
      "1            2     Sydney  Bartlett  Sydney Bartlett  (982) 231-7357   \n",
      "2            3     Hunter    Newton    Hunter Newton  (831) 996-1240   \n",
      "3            4     Brooke   Perkins   Brooke Perkins  (340) 732-9367   \n",
      "4            5      Nolan    Slater     Nolan Slater  (540) 487-5928   \n",
      "\n",
      "         street_address  city_state_zip_id  \n",
      "0     556 Lakewood Park                  8  \n",
      "1   4829 Badeau Parkway                 14  \n",
      "2  2 Rockefeller Avenue                 85  \n",
      "3     87 Brentwood Park                 23  \n",
      "4        99 Sage Street                 59  \n"
     ]
    }
   ],
   "source": [
    "# Fetch the customer table into a DataFrame\n",
    "customer_to_clean_df = pd.read_sql('SELECT * FROM customer_to_clean', engine)\n",
    "print(\"Original DataFrame:\")\n",
    "print(customer_to_clean_df.head())\n",
    "\n"
   ]
  },
  {
   "cell_type": "code",
   "execution_count": 6,
   "id": "b4d0b622-5237-4797-8513-57fd779720fe",
   "metadata": {},
   "outputs": [],
   "source": [
    "# # Function to clean phone numbers\n",
    "# def clean_phone_number(phone):\n",
    "#     # Remove all non-numeric characters\n",
    "#     cleaned = re.sub(r'\\D', '', phone)\n",
    "#     return cleaned\n",
    "\n"
   ]
  },
  {
   "cell_type": "code",
   "execution_count": 15,
   "id": "eebd3330-3092-4876-8ba8-27baf697998c",
   "metadata": {},
   "outputs": [
    {
     "name": "stdout",
     "output_type": "stream",
     "text": [
      "\n",
      "DataFrame with New Phone Numbers:\n",
      "     phone_number New_phone_number\n",
      "0  (901) 166-8355       9011668355\n",
      "1  (982) 231-7357       9822317357\n",
      "2  (831) 996-1240       8319961240\n",
      "3  (340) 732-9367       3407329367\n",
      "4  (540) 487-5928       5404875928\n"
     ]
    }
   ],
   "source": [
    "# # Apply the function to create a new column\n",
    "# customer_to_clean_df['New_phone_number'] = customer_to_clean_df['phone_number'].apply(clean_phone_number)\n",
    "\n",
    "# print(\"\\nDataFrame with New Phone Numbers:\")\n",
    "# print(customer_to_clean_df[['phone_number', 'New_phone_number']].head())\n",
    "\n"
   ]
  },
  {
   "cell_type": "code",
   "execution_count": null,
   "id": "e5cd7e32-215c-4bef-b686-52a9497358ff",
   "metadata": {},
   "outputs": [],
   "source": [
    "# # Option 1: Update the existing table\n",
    "# # customer_df.to_sql('customer', engine, if_exists='replace', index=False)\n",
    "# # print(\"\\nUpdated customer table with new phone numbers.\")\n",
    "\n",
    "# # Option 2: Create a new table\n",
    "# customer_to_clean_df.to_sql('customer_cleaned', engine, if_exists='replace', index=False)\n",
    "# print(\"\\nCreated a new table 'customer_cleaned' with cleaned phone numbers.\")"
   ]
  },
  {
   "cell_type": "markdown",
   "id": "66f270a6-5688-4fcb-ac88-8312566d3130",
   "metadata": {},
   "source": [
    "Other option"
   ]
  },
  {
   "cell_type": "code",
   "execution_count": 10,
   "id": "1d3026e4-3061-481a-8e0d-933db71edc73",
   "metadata": {},
   "outputs": [],
   "source": [
    "# Function to clean phone numbers by removing (, ), and -\n",
    "def clean_phone_number(phone):\n",
    "    # Remove the characters (, ), and -\n",
    "    cleaned = re.sub(r'[()\\-\\s]', '', phone)\n",
    "    return cleaned"
   ]
  },
  {
   "cell_type": "code",
   "execution_count": 11,
   "id": "08b828c1-77e7-4df2-818c-757257deff87",
   "metadata": {},
   "outputs": [],
   "source": [
    "# Apply the function to create a new column\n",
    "customer_to_clean_df['New_phone_number'] = customer_to_clean_df['phone_number'].apply(clean_phone_number)\n",
    "\n"
   ]
  },
  {
   "cell_type": "code",
   "execution_count": 12,
   "id": "66f3e0bd-019d-498d-abb5-df04cafdf2af",
   "metadata": {},
   "outputs": [
    {
     "name": "stdout",
     "output_type": "stream",
     "text": [
      "\n",
      "DataFrame with New Phone Numbers:\n",
      "     phone_number New_phone_number\n",
      "0  (901) 166-8355       9011668355\n",
      "1  (982) 231-7357       9822317357\n",
      "2  (831) 996-1240       8319961240\n",
      "3  (340) 732-9367       3407329367\n",
      "4  (540) 487-5928       5404875928\n"
     ]
    }
   ],
   "source": [
    "print(\"\\nDataFrame with New Phone Numbers:\")\n",
    "print(customer_to_clean_df[['phone_number', 'New_phone_number']].head())\n",
    "\n"
   ]
  },
  {
   "cell_type": "code",
   "execution_count": 14,
   "id": "6c1e47df-7623-4176-a2a0-2622df611e36",
   "metadata": {},
   "outputs": [
    {
     "name": "stdout",
     "output_type": "stream",
     "text": [
      "\n",
      "Created a new table 'customer_cleaned' with cleaned phone numbers.\n"
     ]
    }
   ],
   "source": [
    "# Option 1: Update the existing table\n",
    "# customer_df.to_sql('customer', engine, if_exists='replace', index=False)\n",
    "# print(\"\\nUpdated customer table with new phone numbers.\")\n",
    "\n",
    "# Option 2: Create a new table\n",
    "customer_to_clean_df.to_sql('customer_cleaned', engine, if_exists='replace', index=False)\n",
    "print(\"\\nCreated a new table 'customer_cleaned' with cleaned phone numbers.\")"
   ]
  },
  {
   "cell_type": "markdown",
   "id": "49224706",
   "metadata": {},
   "source": []
  },
  {
   "cell_type": "markdown",
   "id": "7c72393b-5d6d-4a54-8979-718415ba967a",
   "metadata": {},
   "source": [
    "Data Cleaning Process\n",
    "\n",
    "Introduction\n",
    "The goal of this task was to clean the phone_number column in the customer table by removing non-numeric characters such as parentheses ( and ), hyphens -, and any spaces. This cleaned data was then stored in a new column called New_phone_number. Finally, the cleaned data was saved to a new table in the sandbox database on the server.\n",
    "\n",
    "Methodology\n",
    "Step-by-Step Process:\n",
    "\n",
    "Connect to the Database:\n",
    "\n",
    "Using SQLAlchemy, we connected to the SQL Server database.\n",
    "Load the Data:\n",
    "\n",
    "The customer table was loaded into a pandas DataFrame.\n",
    "Clean the Data:\n",
    "\n",
    "We defined a function to remove the specified non-numeric characters from the phone_number column.\n",
    "Applied this function to create a new column, New_phone_number.\n",
    "Save the Cleaned Data:\n",
    "\n",
    "The cleaned DataFrame, containing both the original and new phone number columns, was saved to a new table in the database.\n",
    "Results\n",
    "After running the notebook:\n",
    "\n",
    "The phone_number column in the customer table was successfully cleaned.\n",
    "A new column, New_phone_number, was created in the DataFrame to store the cleaned phone numbers.\n",
    "The cleaned data was saved to a new table named customer_cleaned in the sandbox database on the server.\n",
    "Example of Cleaned Data\n",
    "phone_number\tNew_phone_number\n",
    "(901) 166-8355\t9011668355\n",
    "(982) 231-7357\t9822317357\n",
    "(831) 996-1240\t8319961240\n",
    "(340) 732-9367\t3407329367\n",
    "(540) 487-5928\t5404875928\n",
    "Conclusion\n",
    "By cleaning the phone_number column and creating a new table in the sandbox database, we have:\n",
    "\n",
    "Improved data quality by standardizing phone numbers.\n",
    "Ensured that the data is ready for further analysis or integration into other systems."
   ]
  }
 ],
 "metadata": {
  "kernelspec": {
   "display_name": "Python 3 (ipykernel)",
   "language": "python",
   "name": "python3"
  },
  "language_info": {
   "codemirror_mode": {
    "name": "ipython",
    "version": 3
   },
   "file_extension": ".py",
   "mimetype": "text/x-python",
   "name": "python",
   "nbconvert_exporter": "python",
   "pygments_lexer": "ipython3",
   "version": "3.12.4"
  }
 },
 "nbformat": 4,
 "nbformat_minor": 5
}
